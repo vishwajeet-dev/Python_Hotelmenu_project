{
 "cells": [
  {
   "cell_type": "code",
   "execution_count": 28,
   "id": "c4791d94-0f14-4a58-bc33-2374ae0efba9",
   "metadata": {},
   "outputs": [
    {
     "name": "stdout",
     "output_type": "stream",
     "text": [
      "welcome my Visu resturent\n",
      "Piza: Rs40\n",
      "Pasta: Rs30\n",
      "Burger: Rs50\n",
      "Salad: Rs70\n",
      "Coffee: Rs80\n"
     ]
    },
    {
     "name": "stdin",
     "output_type": "stream",
     "text": [
      "Enter the name of item you want to order =  Burger\n"
     ]
    },
    {
     "name": "stdout",
     "output_type": "stream",
     "text": [
      "Your item Burger has been added to your order\n"
     ]
    },
    {
     "name": "stdin",
     "output_type": "stream",
     "text": [
      "Do you want to add another item? (Yes/No) Yes\n",
      "Enter the name of second item =  Salad\n"
     ]
    },
    {
     "name": "stdout",
     "output_type": "stream",
     "text": [
      "Item Salad has been added to order\n",
      "The total amount of item to pay is 120\n"
     ]
    }
   ],
   "source": [
    "#Define the menu of resturant\n",
    "menu = {\n",
    "'Piza':40,\n",
    "'Pasta':30,\n",
    "'Burger':50,\n",
    "'Salad' :70,\n",
    "'Coffee':80,   \n",
    "}\n",
    "\n",
    "# Greet\n",
    "print(\"welcome my Visu resturent\")\n",
    "print(\"Piza: Rs40\\nPasta: Rs30\\nBurger: Rs50\\nSalad: Rs70\\nCoffee: Rs80\")\n",
    "order_total = 0\n",
    "# 80 + 50 = 130\n",
    "\n",
    "item_1 =input(\"Enter the name of item you want to order = \")\n",
    "if item_1 in menu:\n",
    "    order_total +=  menu[item_1] #0 + 30\n",
    "    print(f\"Your item {item_1} has been added to your order\")\n",
    "else:\n",
    "    print(f\"order item {item_1} is not available yet!\")\n",
    "another_order = input(\"Do you want to add another item? (Yes/No)\")\n",
    "if another_order == \"Yes\":\n",
    "  item_2 = input(\"Enter the name of second item = \")\n",
    "  if item_2 in menu:\n",
    "    order_total += menu[item_2]\n",
    "    print(f\"Item {item_2} has been added to order\")\n",
    "else:\n",
    "    print(f\"order item {item_2} is not available!\")\n",
    "    \n",
    "print(f\"The total amount of item to pay is {order_total}\")"
   ]
  }
 ],
 "metadata": {
  "kernelspec": {
   "display_name": "Python 3 (ipykernel)",
   "language": "python",
   "name": "python3"
  },
  "language_info": {
   "codemirror_mode": {
    "name": "ipython",
    "version": 3
   },
   "file_extension": ".py",
   "mimetype": "text/x-python",
   "name": "python",
   "nbconvert_exporter": "python",
   "pygments_lexer": "ipython3",
   "version": "3.13.0"
  }
 },
 "nbformat": 4,
 "nbformat_minor": 5
}
